{
 "cells": [
  {
   "cell_type": "code",
   "execution_count": 1,
   "metadata": {},
   "outputs": [
    {
     "ename": "ModuleNotFoundError",
     "evalue": "No module named 'xgboost'",
     "output_type": "error",
     "traceback": [
      "\u001b[0;31m---------------------------------------------------------------------------\u001b[0m",
      "\u001b[0;31mModuleNotFoundError\u001b[0m                       Traceback (most recent call last)",
      "\u001b[0;32m<ipython-input-1-262d951e54c3>\u001b[0m in \u001b[0;36m<module>\u001b[0;34m()\u001b[0m\n\u001b[1;32m     12\u001b[0m \u001b[0;32mimport\u001b[0m \u001b[0mlogging\u001b[0m\u001b[0;34m\u001b[0m\u001b[0m\n\u001b[1;32m     13\u001b[0m \u001b[0;34m\u001b[0m\u001b[0m\n\u001b[0;32m---> 14\u001b[0;31m \u001b[0;32mimport\u001b[0m \u001b[0mxgboost\u001b[0m \u001b[0;32mas\u001b[0m \u001b[0mxgb\u001b[0m\u001b[0;34m\u001b[0m\u001b[0m\n\u001b[0m",
      "\u001b[0;31mModuleNotFoundError\u001b[0m: No module named 'xgboost'"
     ]
    }
   ],
   "source": [
    "%matplotlib inline\n",
    "import pandas as pd\n",
    "import numpy as np\n",
    "import os,sys\n",
    "import matplotlib.pyplot as plt\n",
    "import seaborn as sns\n",
    "from IPython.display import display\n",
    "from nltk import word_tokenize\n",
    "from nltk.corpus import stopwords\n",
    "from gensim.models import word2vec\n",
    "from sklearn.ensemble import RandomForestRegressor\n",
    "import logging\n",
    "\n",
    "import xgboost as xgb"
   ]
  },
  {
   "cell_type": "code",
   "execution_count": 3,
   "metadata": {},
   "outputs": [
    {
     "data": {
      "text/plain": [
       "['__doc__', '__loader__', '__name__', '__package__', '__path__', '__spec__']"
      ]
     },
     "execution_count": 3,
     "metadata": {},
     "output_type": "execute_result"
    }
   ],
   "source": [
    "dir(xgboost)"
   ]
  },
  {
   "cell_type": "code",
   "execution_count": 15,
   "metadata": {
    "collapsed": true
   },
   "outputs": [],
   "source": [
    "path='/Users/mizuseki_hiroto/python_study/mercari/'\n",
    "\n",
    "df_train=pd.read_csv(path+'train.tsv',delimiter='\\t')\n",
    "df_test=pd.read_csv(path+'test.tsv',delimiter='\\t')"
   ]
  },
  {
   "cell_type": "code",
   "execution_count": 16,
   "metadata": {},
   "outputs": [
    {
     "data": {
      "text/html": [
       "<div>\n",
       "<style>\n",
       "    .dataframe thead tr:only-child th {\n",
       "        text-align: right;\n",
       "    }\n",
       "\n",
       "    .dataframe thead th {\n",
       "        text-align: left;\n",
       "    }\n",
       "\n",
       "    .dataframe tbody tr th {\n",
       "        vertical-align: top;\n",
       "    }\n",
       "</style>\n",
       "<table border=\"1\" class=\"dataframe\">\n",
       "  <thead>\n",
       "    <tr style=\"text-align: right;\">\n",
       "      <th></th>\n",
       "      <th>train_id</th>\n",
       "      <th>name</th>\n",
       "      <th>item_condition_id</th>\n",
       "      <th>category_name</th>\n",
       "      <th>brand_name</th>\n",
       "      <th>price</th>\n",
       "      <th>shipping</th>\n",
       "      <th>item_description</th>\n",
       "    </tr>\n",
       "  </thead>\n",
       "  <tbody>\n",
       "    <tr>\n",
       "      <th>0</th>\n",
       "      <td>0</td>\n",
       "      <td>MLB Cincinnati Reds T Shirt Size XL</td>\n",
       "      <td>3</td>\n",
       "      <td>Men/Tops/T-shirts</td>\n",
       "      <td>NaN</td>\n",
       "      <td>10.0</td>\n",
       "      <td>1</td>\n",
       "      <td>No description yet</td>\n",
       "    </tr>\n",
       "  </tbody>\n",
       "</table>\n",
       "</div>"
      ],
      "text/plain": [
       "   train_id                                 name  item_condition_id  \\\n",
       "0         0  MLB Cincinnati Reds T Shirt Size XL                  3   \n",
       "\n",
       "       category_name brand_name  price  shipping    item_description  \n",
       "0  Men/Tops/T-shirts        NaN   10.0         1  No description yet  "
      ]
     },
     "metadata": {},
     "output_type": "display_data"
    },
    {
     "data": {
      "text/html": [
       "<div>\n",
       "<style>\n",
       "    .dataframe thead tr:only-child th {\n",
       "        text-align: right;\n",
       "    }\n",
       "\n",
       "    .dataframe thead th {\n",
       "        text-align: left;\n",
       "    }\n",
       "\n",
       "    .dataframe tbody tr th {\n",
       "        vertical-align: top;\n",
       "    }\n",
       "</style>\n",
       "<table border=\"1\" class=\"dataframe\">\n",
       "  <thead>\n",
       "    <tr style=\"text-align: right;\">\n",
       "      <th></th>\n",
       "      <th>test_id</th>\n",
       "      <th>name</th>\n",
       "      <th>item_condition_id</th>\n",
       "      <th>category_name</th>\n",
       "      <th>brand_name</th>\n",
       "      <th>shipping</th>\n",
       "      <th>item_description</th>\n",
       "    </tr>\n",
       "  </thead>\n",
       "  <tbody>\n",
       "    <tr>\n",
       "      <th>0</th>\n",
       "      <td>0</td>\n",
       "      <td>Breast cancer \"I fight like a girl\" ring</td>\n",
       "      <td>1</td>\n",
       "      <td>Women/Jewelry/Rings</td>\n",
       "      <td>NaN</td>\n",
       "      <td>1</td>\n",
       "      <td>Size 7</td>\n",
       "    </tr>\n",
       "  </tbody>\n",
       "</table>\n",
       "</div>"
      ],
      "text/plain": [
       "   test_id                                      name  item_condition_id  \\\n",
       "0        0  Breast cancer \"I fight like a girl\" ring                  1   \n",
       "\n",
       "         category_name brand_name  shipping item_description  \n",
       "0  Women/Jewelry/Rings        NaN         1           Size 7  "
      ]
     },
     "metadata": {},
     "output_type": "display_data"
    }
   ],
   "source": [
    "display(df_train.head(1))\n",
    "display(df_test.head(1))"
   ]
  },
  {
   "cell_type": "markdown",
   "metadata": {},
   "source": [
    "まずはデータの概要把握"
   ]
  },
  {
   "cell_type": "code",
   "execution_count": 17,
   "metadata": {},
   "outputs": [
    {
     "data": {
      "text/plain": [
       "train_id                  0\n",
       "name                      0\n",
       "item_condition_id         0\n",
       "category_name          6327\n",
       "brand_name           632682\n",
       "price                     0\n",
       "shipping                  0\n",
       "item_description          4\n",
       "dtype: int64"
      ]
     },
     "metadata": {},
     "output_type": "display_data"
    },
    {
     "data": {
      "text/plain": [
       "1482535"
      ]
     },
     "metadata": {},
     "output_type": "display_data"
    }
   ],
   "source": [
    "#null値を確認すると結構ある。\n",
    "#特にブランドは40%近くがブランク\n",
    "display(df_train.isnull().sum())\n",
    "\n",
    "#\n",
    "display(len(df_train))\n",
    "df_train['category_name']=df_train['category_name'].fillna('other/other/other')\n"
   ]
  },
  {
   "cell_type": "code",
   "execution_count": 18,
   "metadata": {},
   "outputs": [
    {
     "data": {
      "text/plain": [
       "True"
      ]
     },
     "execution_count": 18,
     "metadata": {},
     "output_type": "execute_result"
    }
   ],
   "source": [
    "#train_id\n",
    "#ユニークなのでただのIDでしょう\n",
    "test=df_train['train_id'].value_counts()\n",
    "test.sum()==len(test)\n",
    "\n"
   ]
  },
  {
   "cell_type": "code",
   "execution_count": 19,
   "metadata": {},
   "outputs": [
    {
     "data": {
      "text/plain": [
       "Bundle      2232\n",
       "Reserved     453\n",
       "Converse     445\n",
       "BUNDLE       418\n",
       "Dress        410\n",
       "Name: name, dtype: int64"
      ]
     },
     "metadata": {},
     "output_type": "display_data"
    },
    {
     "data": {
      "text/plain": [
       "<matplotlib.axes._subplots.AxesSubplot at 0x11828ab00>"
      ]
     },
     "execution_count": 19,
     "metadata": {},
     "output_type": "execute_result"
    },
    {
     "data": {
      "image/png": "[encoded data removed]",
      "text/plain": [
       "<matplotlib.figure.Figure at 0x118027b38>"
      ]
     },
     "metadata": {},
     "output_type": "display_data"
    }
   ],
   "source": [
    "#name\n",
    "#よく出てくるのはは2000回とか出てくるけど、ヒストグラムを見ると殆どの物は20回以下しかでてこない\n",
    "#回数と信用は相関ありそう。\n",
    "#多分商品名\n",
    "test=df_train['name'].value_counts()\n",
    "display(test.head())\n",
    "test.hist(range=(0,500),bins=50)\n",
    "\n"
   ]
  },
  {
   "cell_type": "code",
   "execution_count": 20,
   "metadata": {},
   "outputs": [
    {
     "data": {
      "image/png": "[encoded data removed]",
      "text/plain": [
       "<matplotlib.figure.Figure at 0x118295e80>"
      ]
     },
     "metadata": {},
     "output_type": "display_data"
    },
    {
     "data": {
      "text/html": [
       "<div>\n",
       "<style>\n",
       "    .dataframe thead tr:only-child th {\n",
       "        text-align: right;\n",
       "    }\n",
       "\n",
       "    .dataframe thead th {\n",
       "        text-align: left;\n",
       "    }\n",
       "\n",
       "    .dataframe tbody tr th {\n",
       "        vertical-align: top;\n",
       "    }\n",
       "</style>\n",
       "<table border=\"1\" class=\"dataframe\">\n",
       "  <thead>\n",
       "    <tr style=\"text-align: right;\">\n",
       "      <th></th>\n",
       "      <th>train_id</th>\n",
       "      <th>price</th>\n",
       "      <th>shipping</th>\n",
       "    </tr>\n",
       "    <tr>\n",
       "      <th>item_condition_id</th>\n",
       "      <th></th>\n",
       "      <th></th>\n",
       "      <th></th>\n",
       "    </tr>\n",
       "  </thead>\n",
       "  <tbody>\n",
       "    <tr>\n",
       "      <th>1</th>\n",
       "      <td>741477.869562</td>\n",
       "      <td>26.486967</td>\n",
       "      <td>0.562708</td>\n",
       "    </tr>\n",
       "    <tr>\n",
       "      <th>2</th>\n",
       "      <td>740793.371866</td>\n",
       "      <td>27.563225</td>\n",
       "      <td>0.380767</td>\n",
       "    </tr>\n",
       "    <tr>\n",
       "      <th>3</th>\n",
       "      <td>741266.541217</td>\n",
       "      <td>26.540711</td>\n",
       "      <td>0.343553</td>\n",
       "    </tr>\n",
       "    <tr>\n",
       "      <th>4</th>\n",
       "      <td>743097.620894</td>\n",
       "      <td>24.349212</td>\n",
       "      <td>0.324104</td>\n",
       "    </tr>\n",
       "    <tr>\n",
       "      <th>5</th>\n",
       "      <td>734745.646812</td>\n",
       "      <td>31.703859</td>\n",
       "      <td>0.360319</td>\n",
       "    </tr>\n",
       "  </tbody>\n",
       "</table>\n",
       "</div>"
      ],
      "text/plain": [
       "                        train_id      price  shipping\n",
       "item_condition_id                                    \n",
       "1                  741477.869562  26.486967  0.562708\n",
       "2                  740793.371866  27.563225  0.380767\n",
       "3                  741266.541217  26.540711  0.343553\n",
       "4                  743097.620894  24.349212  0.324104\n",
       "5                  734745.646812  31.703859  0.360319"
      ]
     },
     "execution_count": 20,
     "metadata": {},
     "output_type": "execute_result"
    }
   ],
   "source": [
    "#item_condition_id\n",
    "#多分アイテムの状態コード。123が多い。多分値段との相関高そう。\n",
    "df_train['item_condition_id'].value_counts(dropna=False)\n",
    "\n",
    "#グラフを見ると5以外は大差ない気がする。\n",
    "fig=sns.FacetGrid(df_train,hue='item_condition_id',aspect=2)\n",
    "fig.map(sns.kdeplot,'price')\n",
    "fig.add_legend()\n",
    "plt.xlim(xmin=0,xmax=200)\n",
    "plt.ylim(ymin=0,ymax=0.05)\n",
    "plt.show()\n",
    "\n",
    "#表で見るとやはり5だけ抜けて高い。あと１だけshippingの値が極端に違う。配送料？？\n",
    "df_train.groupby('item_condition_id').mean()"
   ]
  },
  {
   "cell_type": "code",
   "execution_count": 21,
   "metadata": {
    "collapsed": true
   },
   "outputs": [],
   "source": [
    "#category_name\n",
    "#大分類中分類小分類という位置づけみたいなので0~2に分けた。\n",
    "#多分小分類を概念でいくつかのカテゴリーに分けるのがよさそう。\n",
    "#一般的な言葉(wikiとか？)を学習させたw2vを使ったベクトルを当てはめるのがよい？\n",
    "df_train['category_name'].value_counts(dropna=False)\n",
    "df_train['category_0']=df_train['category_name'].apply(lambda x:str(x).split('/')[0])\n",
    "df_train['category_1']=df_train['category_name'].apply(lambda x:str(x).split('/')[1])\n",
    "df_train['category_2']=df_train['category_name'].apply(lambda x:str(x).split('/')[2])"
   ]
  },
  {
   "cell_type": "code",
   "execution_count": 22,
   "metadata": {},
   "outputs": [
    {
     "data": {
      "text/plain": [
       "NaN                   632682\n",
       "PINK                   54088\n",
       "Nike                   54043\n",
       "Victoria's Secret      48036\n",
       "LuLaRoe                31024\n",
       "Apple                  17322\n",
       "FOREVER 21             15186\n",
       "Nintendo               15007\n",
       "Lululemon              14558\n",
       "Michael Kors           13928\n",
       "American Eagle         13254\n",
       "Rae Dunn               12305\n",
       "Sephora                12172\n",
       "Coach                  10463\n",
       "Disney                 10360\n",
       "Bath & Body Works      10354\n",
       "Adidas                 10202\n",
       "Funko                   9237\n",
       "Under Armour            8461\n",
       "Sony                    7994\n",
       "Old Navy                7567\n",
       "Hollister               6948\n",
       "Carter's                6385\n",
       "Urban Decay             6210\n",
       "The North Face          6172\n",
       "Independent             5902\n",
       "Too Faced               5794\n",
       "Xbox                    5709\n",
       "Brandy Melville         5680\n",
       "Kate Spade              5411\n",
       "                       ...  \n",
       "Koss                       1\n",
       "Signorelli                 1\n",
       "Focus                      1\n",
       "Hot Chillys                1\n",
       "Bon Bebe                   1\n",
       "Vaneli                     1\n",
       "Smet                       1\n",
       "The Magic Bullet           1\n",
       "First Wave                 1\n",
       "American Weigh             1\n",
       "BLANQI                     1\n",
       "Simms                      1\n",
       "SWAK                       1\n",
       "Vivid Imaginations         1\n",
       "Cypress Links              1\n",
       "Elmo                       1\n",
       "White Diamond              1\n",
       "Shock Absorber             1\n",
       "American Tourister         1\n",
       "Makeup Eraser              1\n",
       "Kids Only                  1\n",
       "OULUOQI                    1\n",
       "Cdc Clothing               1\n",
       "Francesco Biasia           1\n",
       "Sovereign Code             1\n",
       "Tickled Pink Tees          1\n",
       "Chromo Inc                 1\n",
       "Sol de Janeiro             1\n",
       "Neighborhood               1\n",
       "Lipstick Boutique          1\n",
       "Name: brand_name, Length: 4810, dtype: int64"
      ]
     },
     "execution_count": 22,
     "metadata": {},
     "output_type": "execute_result"
    }
   ],
   "source": [
    "#brand_name \n",
    "#金額とかなり相関は高そうだけど、ブランク多すぎる。(4割くらい)\n",
    "#他の文章とかから推定できるならいいけど、できないならモデル2つ作るのもよいかも\n",
    "df_train['brand_name'].value_counts(dropna=False)"
   ]
  },
  {
   "cell_type": "code",
   "execution_count": 23,
   "metadata": {},
   "outputs": [
    {
     "data": {
      "text/plain": [
       "Index(['train_id', 'name', 'item_condition_id', 'category_name', 'brand_name',\n",
       "       'price', 'shipping', 'item_description', 'category_0', 'category_1',\n",
       "       'category_2'],\n",
       "      dtype='object')"
      ]
     },
     "execution_count": 23,
     "metadata": {},
     "output_type": "execute_result"
    }
   ],
   "source": [
    "df_train.columns"
   ]
  },
  {
   "cell_type": "code",
   "execution_count": 24,
   "metadata": {},
   "outputs": [
    {
     "data": {
      "text/plain": [
       "(0, 250)"
      ]
     },
     "execution_count": 24,
     "metadata": {},
     "output_type": "execute_result"
    },
    {
     "data": {
      "image/png": "[encoded data removed]",
      "text/plain": [
       "<matplotlib.figure.Figure at 0x11914dbe0>"
      ]
     },
     "metadata": {},
     "output_type": "display_data"
    }
   ],
   "source": [
    "#基本安いものが多いよね、という状態。\n",
    "df_train['price'].hist(bins=100)\n",
    "plt.xlim(xmin=0,xmax=250)\n"
   ]
  },
  {
   "cell_type": "code",
   "execution_count": 25,
   "metadata": {},
   "outputs": [
    {
     "data": {
      "text/plain": [
       "<matplotlib.axes._subplots.AxesSubplot at 0x1187d3ef0>"
      ]
     },
     "execution_count": 25,
     "metadata": {},
     "output_type": "execute_result"
    },
    {
     "data": {
      "image/png": "[encoded data removed]",
      "text/plain": [
       "<matplotlib.figure.Figure at 0x161557438>"
      ]
     },
     "metadata": {},
     "output_type": "display_data"
    }
   ],
   "source": [
    "#なので、対数をとって正規分布っぽくする\n",
    "df_train['price_log']=df_train['price'].apply(lambda x:np.log(x))\n",
    "df_train['price_log'].hist(range=(0,6))"
   ]
  },
  {
   "cell_type": "code",
   "execution_count": 26,
   "metadata": {},
   "outputs": [
    {
     "data": {
      "text/plain": [
       "1482535"
      ]
     },
     "metadata": {},
     "output_type": "display_data"
    },
    {
     "data": {
      "text/plain": [
       "874"
      ]
     },
     "metadata": {},
     "output_type": "display_data"
    }
   ],
   "source": [
    "inf=float('inf')\n",
    "display(len(df_train))\n",
    "display(len(df_train[df_train['price_log']==-inf]))\n",
    "df_train=df_train[df_train['price_log']!=-inf]"
   ]
  },
  {
   "cell_type": "code",
   "execution_count": 27,
   "metadata": {},
   "outputs": [
    {
     "data": {
      "text/plain": [
       "0    818876\n",
       "1    662785\n",
       "Name: shipping, dtype: int64"
      ]
     },
     "metadata": {},
     "output_type": "display_data"
    },
    {
     "data": {
      "image/png": "[encoded data removed]",
      "text/plain": [
       "<matplotlib.figure.Figure at 0x16162ceb8>"
      ]
     },
     "metadata": {},
     "output_type": "display_data"
    },
    {
     "data": {
      "text/html": [
       "<div>\n",
       "<style>\n",
       "    .dataframe thead tr:only-child th {\n",
       "        text-align: right;\n",
       "    }\n",
       "\n",
       "    .dataframe thead th {\n",
       "        text-align: left;\n",
       "    }\n",
       "\n",
       "    .dataframe tbody tr th {\n",
       "        vertical-align: top;\n",
       "    }\n",
       "</style>\n",
       "<table border=\"1\" class=\"dataframe\">\n",
       "  <thead>\n",
       "    <tr style=\"text-align: right;\">\n",
       "      <th></th>\n",
       "      <th>train_id</th>\n",
       "      <th>item_condition_id</th>\n",
       "      <th>price</th>\n",
       "      <th>price_log</th>\n",
       "    </tr>\n",
       "    <tr>\n",
       "      <th>shipping</th>\n",
       "      <th></th>\n",
       "      <th></th>\n",
       "      <th></th>\n",
       "      <th></th>\n",
       "    </tr>\n",
       "  </thead>\n",
       "  <tbody>\n",
       "    <tr>\n",
       "      <th>0</th>\n",
       "      <td>741052.595640</td>\n",
       "      <td>2.062692</td>\n",
       "      <td>30.132333</td>\n",
       "      <td>3.081274</td>\n",
       "    </tr>\n",
       "    <tr>\n",
       "      <th>1</th>\n",
       "      <td>741479.851365</td>\n",
       "      <td>1.715360</td>\n",
       "      <td>22.578452</td>\n",
       "      <td>2.704941</td>\n",
       "    </tr>\n",
       "  </tbody>\n",
       "</table>\n",
       "</div>"
      ],
      "text/plain": [
       "               train_id  item_condition_id      price  price_log\n",
       "shipping                                                        \n",
       "0         741052.595640           2.062692  30.132333   3.081274\n",
       "1         741479.851365           1.715360  22.578452   2.704941"
      ]
     },
     "execution_count": 27,
     "metadata": {},
     "output_type": "execute_result"
    }
   ],
   "source": [
    "#shippingはただのラベル。値段に影響あるきがする。\n",
    "display(df_train['shipping'].value_counts(dropna=False))\n",
    "\n",
    "#shipping安い値段帯に絞るとshipping=0のほうが値段が高そうだが、全ての領域で見るとあまり差はない。\n",
    "fig=sns.FacetGrid(df_train,hue='shipping',aspect=2)\n",
    "fig.map(sns.kdeplot,'price_log')\n",
    "fig.add_legend()\n",
    "plt.show()\n",
    "\n",
    "df_train.groupby('shipping').mean()\n"
   ]
  },
  {
   "cell_type": "code",
   "execution_count": 28,
   "metadata": {},
   "outputs": [
    {
     "data": {
      "text/plain": [
       "No description yet                                                                                                                                                                                                                                                                                                                                         82427\n",
       "New                                                                                                                                                                                                                                                                                                                                                         4099\n",
       "Brand new                                                                                                                                                                                                                                                                                                                                                   3056\n",
       "Good condition                                                                                                                                                                                                                                                                                                                                              1272\n",
       "Great condition                                                                                                                                                                                                                                                                                                                                             1158\n",
       "Like new                                                                                                                                                                                                                                                                                                                                                     986\n",
       "Never worn                                                                                                                                                                                                                                                                                                                                                   837\n",
       "NWT                                                                                                                                                                                                                                                                                                                                                          821\n",
       "New with tags                                                                                                                                                                                                                                                                                                                                                644\n",
       "Never used                                                                                                                                                                                                                                                                                                                                                   604\n",
       "Excellent condition                                                                                                                                                                                                                                                                                                                                          604\n",
       "Worn once                                                                                                                                                                                                                                                                                                                                                    582\n",
       "Brand new with tags                                                                                                                                                                                                                                                                                                                                          518\n",
       "Size small                                                                                                                                                                                                                                                                                                                                                   453\n",
       "Brand new!                                                                                                                                                                                                                                                                                                                                                   446\n",
       "New in box                                                                                                                                                                                                                                                                                                                                                   442\n",
       "BNWT                                                                                                                                                                                                                                                                                                                                                         435\n",
       "Brand New                                                                                                                                                                                                                                                                                                                                                    424\n",
       "Bundle                                                                                                                                                                                                                                                                                                                                                       401\n",
       "Brand new.                                                                                                                                                                                                                                                                                                                                                   389\n",
       "NWOT                                                                                                                                                                                                                                                                                                                                                         366\n",
       "Reserved                                                                                                                                                                                                                                                                                                                                                     357\n",
       "Free shipping                                                                                                                                                                                                                                                                                                                                                344\n",
       "Size medium                                                                                                                                                                                                                                                                                                                                                  341\n",
       "Brand new never used                                                                                                                                                                                                                                                                                                                                         332\n",
       "In good condition                                                                                                                                                                                                                                                                                                                                            318\n",
       "Nwt                                                                                                                                                                                                                                                                                                                                                          301\n",
       "In great condition                                                                                                                                                                                                                                                                                                                                           280\n",
       "Brand new in box                                                                                                                                                                                                                                                                                                                                             263\n",
       "Brand new never worn                                                                                                                                                                                                                                                                                                                                         247\n",
       "                                                                                                                                                                                                                                                                                                                                                           ...  \n",
       "3 day Thrive bundle which includes everything you need to start thriving and MORE! -3 Packs of Thrive W capsules (one pack capsules per day) -3 Strawberry flavored Lifestyle mix (one shake per day) -3 DFT patches (one patch per day) -bonus!!!! 3 pouches of ACTIVATE! (one per day) Try ACTIVATE in the middle of your day to give you a boost!           1\n",
       "Size XXL. Men's but can be worn by anyone! Super cozy.                                                                                                                                                                                                                                                                                                         1\n",
       "New condition [rm] each 20 pieces Might be same color but no repeats Brands Wet n wild Hard candy Loreal Maybelline New                                                                                                                                                                                                                                        1\n",
       "Victoria's Secret Eau So Sexy Perfume 1- 1.7 fl oz Perfume NWT Price is firm                                                                                                                                                                                                                                                                                   1\n",
       "Size XL retails for [rm] if you want it in another size let me know. • Light cool gauze • One and done fit with a layered feel • Pretty overlay with lace trim • Scoop neck • Tie straps • 2 5/8” inseam                                                                                                                                                       1\n",
       "Flowery embroided skirt, never worn                                                                                                                                                                                                                                                                                                                            1\n",
       "New with tags still attached! One pair black, one pair gray Both size small Brand new! Never worn! No flaws! No holes! Very comfortable and great for the gym!                                                                                                                                                                                                 1\n",
       "Worn 1x. Espadrille flat. Very comfy, unfortunately i need a size 9. Loved these.                                                                                                                                                                                                                                                                              1\n",
       "Preloved. See pictures.                                                                                                                                                                                                                                                                                                                                        1\n",
       "Miss                                                                                                                                                                                                                                                                                                                                                           1\n",
       "Royal blue, burnt orange, cream & an off yellow colored tapestry! Few TINY holes at the top from nails, other than that it looks brand new.                                                                                                                                                                                                                    1\n",
       "2000 Paramount Football Tom Brady Rookie Card number 101/325. Ships in penny sleeve and toploader.                                                                                                                                                                                                                                                             1\n",
       "This T-shirt is a size large and it feautres the bands initials on the front and the lyrics to F*ck on the back. Its only been worn a few times                                                                                                                                                                                                                1\n",
       "Blue and Red Dooney & Burke Purse (Victoria style), NWT, never used. Still has original tags. Retailed at [rm]. Only damage is to the original price tag as shown on picture 4.                                                                                                                                                                                1\n",
       "NEW with tag knee length baby pink color size S Nursing bra built in                                                                                                                                                                                                                                                                                           1\n",
       "This is a tshirt jersey that was bought in London!!                                                                                                                                                                                                                                                                                                            1\n",
       "Deluxe sample size 5mL | 0.17fl oz Drunk Elephant TLC Sakuri Baby Facial Last photo with paper clip for size Brand new and sealed Free sample included Free shipping!                                                                                                                                                                                          1\n",
       "NWOT Birkenstock yara black leather hard to find it this color sold out is real leather size 39                                                                                                                                                                                                                                                                1\n",
       "DC Multiverse Batman v Superman Batman and Wonder Woman figures. Used for display only and in excellent condition. All accessories are included. Comes from a pet and smoke free home.                                                                                                                                                                         1\n",
       "NWT small Lowest price include shipping and selling fees                                                                                                                                                                                                                                                                                                       1\n",
       "NWT LuLaRoe OS leggings 2 pairs, nothing wrong with them just bought too much. Smoke free, pet friendly home.                                                                                                                                                                                                                                                  1\n",
       "Mini caboodle with mirror.                                                                                                                                                                                                                                                                                                                                     1\n",
       "Brand new with tags. It's a large but runs small fits like a medium. not forever 21 but similar style. Better quality.                                                                                                                                                                                                                                         1\n",
       "Builds potty training confidence with lights, sounds and twirling water action. Learn to flush. Extended use, potty ring removes and fits on a regular toilet seat. Used few times but my kid did not like it.                                                                                                                                                 1\n",
       "New iPhone chargers FREE SHIPPING INCLUDES FREE TRACKING NUMBER FAST SHIPPING HIGH QUALITY Perfect Christmas gift/stocking stuffer *compatible for iPhone 5/iPhone 5s/iPhone 5C/iPhone 6/iPhone 6 plus/iPhone 7/iPhone 7 plus/iPhone 4/iPhone 4s/iPad air1/iPad 2/iPad 3/iPod touch Tags: vs pink/pink/loft/Christmas present/Nike/iPad/Christmas/iPod/        1\n",
       "Maybelline and Loreal setting sprays both 100% full with no caps.                                                                                                                                                                                                                                                                                              1\n",
       "Black leather Nike sneakers are in excellent condition. No flaws                                                                                                                                                                                                                                                                                               1\n",
       "Funko Pop Sdcc 2 flocked tigger and Princess Leia and r2d2 and tony stark in good condition                                                                                                                                                                                                                                                                    1\n",
       "X small                                                                                                                                                                                                                                                                                                                                                        1\n",
       "Women's Red Nike Dri-Fit Shirt Top Size Small.                                                                                                                                                                                                                                                                                                                 1\n",
       "Name: item_description, Length: 1280671, dtype: int64"
      ]
     },
     "execution_count": 28,
     "metadata": {},
     "output_type": "execute_result"
    }
   ],
   "source": [
    "#商品の説明文のようだが、意外と同じ単語が使われるパターンもあるっぽい。\n",
    "df_train['item_description'].value_counts()"
   ]
  },
  {
   "cell_type": "code",
   "execution_count": 29,
   "metadata": {},
   "outputs": [
    {
     "data": {
      "text/html": [
       "<div>\n",
       "<style>\n",
       "    .dataframe thead tr:only-child th {\n",
       "        text-align: right;\n",
       "    }\n",
       "\n",
       "    .dataframe thead th {\n",
       "        text-align: left;\n",
       "    }\n",
       "\n",
       "    .dataframe tbody tr th {\n",
       "        vertical-align: top;\n",
       "    }\n",
       "</style>\n",
       "<table border=\"1\" class=\"dataframe\">\n",
       "  <thead>\n",
       "    <tr style=\"text-align: right;\">\n",
       "      <th></th>\n",
       "      <th>train_id</th>\n",
       "      <th>item_condition_id</th>\n",
       "      <th>price</th>\n",
       "      <th>shipping</th>\n",
       "      <th>price_log</th>\n",
       "    </tr>\n",
       "    <tr>\n",
       "      <th>brand_flag</th>\n",
       "      <th></th>\n",
       "      <th></th>\n",
       "      <th></th>\n",
       "      <th></th>\n",
       "      <th></th>\n",
       "    </tr>\n",
       "  </thead>\n",
       "  <tbody>\n",
       "    <tr>\n",
       "      <th>0</th>\n",
       "      <td>741317.659477</td>\n",
       "      <td>1.736947</td>\n",
       "      <td>21.145017</td>\n",
       "      <td>0.525738</td>\n",
       "      <td>2.723124</td>\n",
       "    </tr>\n",
       "    <tr>\n",
       "      <th>1</th>\n",
       "      <td>741188.667555</td>\n",
       "      <td>2.034168</td>\n",
       "      <td>30.928735</td>\n",
       "      <td>0.388947</td>\n",
       "      <td>3.054245</td>\n",
       "    </tr>\n",
       "  </tbody>\n",
       "</table>\n",
       "</div>"
      ],
      "text/plain": [
       "                 train_id  item_condition_id      price  shipping  price_log\n",
       "brand_flag                                                                  \n",
       "0           741317.659477           1.736947  21.145017  0.525738   2.723124\n",
       "1           741188.667555           2.034168  30.928735  0.388947   3.054245"
      ]
     },
     "metadata": {},
     "output_type": "display_data"
    },
    {
     "data": {
      "image/png": "[encoded data removed]",
      "text/plain": [
       "<matplotlib.figure.Figure at 0x115f8d128>"
      ]
     },
     "metadata": {},
     "output_type": "display_data"
    }
   ],
   "source": [
    "#ブランド名あるなしで判別するとやはりブランド名がある方が平均価格は高い\n",
    "df_train['brand_flag']=df_train.loc[:,'brand_name'].notnull()*1\n",
    "display(df_train.groupby('brand_flag').mean())\n",
    "\n",
    "fig=sns.FacetGrid(df_train,hue='brand_flag',aspect=2)\n",
    "fig.map(sns.kdeplot,'price_log')\n",
    "fig.add_legend()\n",
    "plt.show()\n"
   ]
  },
  {
   "cell_type": "code",
   "execution_count": 30,
   "metadata": {
    "collapsed": true
   },
   "outputs": [
    {
     "data": {
      "text/plain": [
       "pink                         81517\n",
       "bundle                       72295\n",
       "size                         71543\n",
       "new                          68341\n",
       "lularoe                      63133\n",
       "for                          58815\n",
       "black                        53259\n",
       "and                          46135\n",
       "nike                         45867\n",
       "vs                           43318\n",
       "secret                       40189\n",
       "dress                        37476\n",
       "&                            37337\n",
       "leggings                     37177\n",
       "nwt                          36136\n",
       "set                          34987\n",
       "top                          34598\n",
       "free                         33359\n",
       "2                            33061\n",
       "shirt                        31409\n",
       "iphone                       29931\n",
       "of                           25766\n",
       "case                         25270\n",
       "shorts                       24349\n",
       "victoria's                   23674\n",
       "jeans                        21269\n",
       "white                        20879\n",
       "3                            20432\n",
       "the                          20279\n",
       "bra                          20054\n",
       "                             ...  \n",
       "llr,                             1\n",
       "amaira                           1\n",
       "yomega                           1\n",
       "$p                               1\n",
       "hours!)                          1\n",
       "leopard/bling                    1\n",
       "nwt-old                          1\n",
       "cork,                            1\n",
       "costume(                         1\n",
       "(12oz)+free                      1\n",
       "0399                             1\n",
       "bag/purse/wallet                 1\n",
       "boń                              1\n",
       "present!                         1\n",
       "simplystatedrooms                1\n",
       "headphones/mp3/                  1\n",
       "southpark                        1\n",
       "jeans/jegging                    1\n",
       "❗️labordaysale❗️lululemon        1\n",
       "tiggerpooh                       1\n",
       "ageless.new                      1\n",
       "(31×31)                          1\n",
       "\"above                           1\n",
       "light-41                         1\n",
       "katleyn-toddler                  1\n",
       "eur71b                           1\n",
       "arie918                          1\n",
       "box/removable                    1\n",
       "dot\"alexa                        1\n",
       "candor's                         1\n",
       "Length: 198386, dtype: int64"
      ]
     },
     "execution_count": 30,
     "metadata": {},
     "output_type": "execute_result"
    }
   ],
   "source": [
    "#名前は要素を分解すると頻出する単語があるみたい。\n",
    "df_train['name'].value_counts()\n",
    "list1=[t. split(' ') for t in df_train['name']]\n",
    "list2=np.concatenate(list1)\n",
    "list2=[t.lower() for t in list2]\n",
    "pd.Series(list2).value_counts()"
   ]
  },
  {
   "cell_type": "code",
   "execution_count": 76,
   "metadata": {
    "collapsed": true
   },
   "outputs": [],
   "source": [
    "#まずはざっくり数値にする、数値にできないものは削除する関数を作成\n",
    "def  changer_train(df):\n",
    "    df[df['category_name'].isnull()]='//'\n",
    "    df['category_0'],df['category_1'],df['category_2']=zip(*df['category_name'].apply(lambda x:str(x).split('/')))\n",
    "    df['brand_flag']=df.loc[:,'brand_name'].notnull()*1\n",
    "    df['price_log']=df['price'].apply(lambda x:np.log(x))\n",
    "\n",
    "    from sklearn.preprocessing import LabelEncoder\n",
    "    le = LabelEncoder()\n",
    "    for word in ['category_0','category_1','category_2']:\n",
    "        le.fit(df[word])\n",
    "        df[word]=le.fit_transform(df[word])\n",
    "    df=df.drop(['train_id','name','category_name','brand_name','item_description','price'],axis=1)\n",
    "    return(df)\n",
    "    \n",
    "#まずはざっくり数値にする、数値にできないものは削除する関数を作成\n",
    "def  changer_test(df):\n",
    "    df[df['category_name'].isnull()]='//'\n",
    "    df['category_0'],df['category_1'],df['category_2']=zip(*df['category_name'].apply(lambda x:str(x).split('/')))\n",
    "    df['brand_flag']=df.loc[:,'brand_name'].notnull()*1\n",
    "\n",
    "    from sklearn.preprocessing import LabelEncoder\n",
    "    le = LabelEncoder()\n",
    "    for word in ['category_0','category_1','category_2']:\n",
    "        le.fit(df[word])\n",
    "        df[word]=le.fit_transform(df[word])\n",
    "    df=df.drop(['test_id','name','category_name','brand_name','item_description'],axis=1)\n",
    "    return(df)\n",
    "    \n",
    "\n"
   ]
  },
  {
   "cell_type": "code",
   "execution_count": 77,
   "metadata": {},
   "outputs": [
    {
     "data": {
      "text/plain": [
       "RandomForestRegressor(bootstrap=True, criterion='mse', max_depth=None,\n",
       "           max_features='auto', max_leaf_nodes=None,\n",
       "           min_impurity_decrease=0.0, min_impurity_split=None,\n",
       "           min_samples_leaf=1, min_samples_split=2,\n",
       "           min_weight_fraction_leaf=0.0, n_estimators=10, n_jobs=1,\n",
       "           oob_score=False, random_state=None, verbose=0, warm_start=False)"
      ]
     },
     "execution_count": 77,
     "metadata": {},
     "output_type": "execute_result"
    }
   ],
   "source": [
    "df_train_1=changer_train(df_train)\n",
    "from sklearn.ensemble import RandomForestRegressor\n",
    "clf=RandomForestRegressor()\n",
    "X=df_train_1.drop('price_log',axis=1)\n",
    "y=df_train_1['price_log']\n",
    "clf.fit(X,y)\n"
   ]
  },
  {
   "cell_type": "code",
   "execution_count": 87,
   "metadata": {},
   "outputs": [
    {
     "data": {
      "text/html": [
       "<div>\n",
       "<style>\n",
       "    .dataframe thead tr:only-child th {\n",
       "        text-align: right;\n",
       "    }\n",
       "\n",
       "    .dataframe thead th {\n",
       "        text-align: left;\n",
       "    }\n",
       "\n",
       "    .dataframe tbody tr th {\n",
       "        vertical-align: top;\n",
       "    }\n",
       "</style>\n",
       "<table border=\"1\" class=\"dataframe\">\n",
       "  <thead>\n",
       "    <tr style=\"text-align: right;\">\n",
       "      <th></th>\n",
       "      <th>0</th>\n",
       "      <th>1</th>\n",
       "      <th>2</th>\n",
       "      <th>3</th>\n",
       "      <th>4</th>\n",
       "      <th>5</th>\n",
       "      <th>6</th>\n",
       "      <th>7</th>\n",
       "      <th>8</th>\n",
       "      <th>9</th>\n",
       "      <th>...</th>\n",
       "      <th>1482525</th>\n",
       "      <th>1482526</th>\n",
       "      <th>1482527</th>\n",
       "      <th>1482528</th>\n",
       "      <th>1482529</th>\n",
       "      <th>1482530</th>\n",
       "      <th>1482531</th>\n",
       "      <th>1482532</th>\n",
       "      <th>1482533</th>\n",
       "      <th>1482534</th>\n",
       "    </tr>\n",
       "  </thead>\n",
       "  <tbody>\n",
       "    <tr>\n",
       "      <th>y</th>\n",
       "      <td>10.000000</td>\n",
       "      <td>52.000000</td>\n",
       "      <td>10.000000</td>\n",
       "      <td>35.000000</td>\n",
       "      <td>44.000000</td>\n",
       "      <td>59.000000</td>\n",
       "      <td>64.000000</td>\n",
       "      <td>6.000000</td>\n",
       "      <td>19.000000</td>\n",
       "      <td>8.000000</td>\n",
       "      <td>...</td>\n",
       "      <td>7.000000</td>\n",
       "      <td>12.000000</td>\n",
       "      <td>10.000000</td>\n",
       "      <td>18.000000</td>\n",
       "      <td>34.000000</td>\n",
       "      <td>20.000000</td>\n",
       "      <td>14.000000</td>\n",
       "      <td>12.000000</td>\n",
       "      <td>45.000000</td>\n",
       "      <td>22.000000</td>\n",
       "    </tr>\n",
       "    <tr>\n",
       "      <th>y_hat</th>\n",
       "      <td>9.859765</td>\n",
       "      <td>28.110393</td>\n",
       "      <td>15.488895</td>\n",
       "      <td>10.752346</td>\n",
       "      <td>15.022674</td>\n",
       "      <td>21.166912</td>\n",
       "      <td>15.639876</td>\n",
       "      <td>11.246342</td>\n",
       "      <td>13.091398</td>\n",
       "      <td>23.049305</td>\n",
       "      <td>...</td>\n",
       "      <td>14.920355</td>\n",
       "      <td>14.748044</td>\n",
       "      <td>13.677638</td>\n",
       "      <td>14.883721</td>\n",
       "      <td>15.219968</td>\n",
       "      <td>25.992067</td>\n",
       "      <td>13.279099</td>\n",
       "      <td>17.764445</td>\n",
       "      <td>11.206664</td>\n",
       "      <td>19.518715</td>\n",
       "    </tr>\n",
       "  </tbody>\n",
       "</table>\n",
       "<p>2 rows × 1481661 columns</p>\n",
       "</div>"
      ],
      "text/plain": [
       "         0          1          2          3          4          5        \\\n",
       "y      10.000000  52.000000  10.000000  35.000000  44.000000  59.000000   \n",
       "y_hat   9.859765  28.110393  15.488895  10.752346  15.022674  21.166912   \n",
       "\n",
       "         6          7          8          9          ...        1482525  \\\n",
       "y      64.000000   6.000000  19.000000   8.000000    ...       7.000000   \n",
       "y_hat  15.639876  11.246342  13.091398  23.049305    ...      14.920355   \n",
       "\n",
       "         1482526    1482527    1482528    1482529    1482530    1482531  \\\n",
       "y      12.000000  10.000000  18.000000  34.000000  20.000000  14.000000   \n",
       "y_hat  14.748044  13.677638  14.883721  15.219968  25.992067  13.279099   \n",
       "\n",
       "         1482532    1482533    1482534  \n",
       "y      12.000000  45.000000  22.000000  \n",
       "y_hat  17.764445  11.206664  19.518715  \n",
       "\n",
       "[2 rows x 1481661 columns]"
      ]
     },
     "execution_count": 87,
     "metadata": {},
     "output_type": "execute_result"
    }
   ],
   "source": [
    "print('socre is',clf.score(X,y))\n",
    "pd.DataFrame({'y':np.exp(1)**y,'y_hat':np.exp(1)**clf.predict(X)}).T"
   ]
  },
  {
   "cell_type": "code",
   "execution_count": 89,
   "metadata": {
    "collapsed": true
   },
   "outputs": [],
   "source": [
    "def  changer_train_notlog(df):\n",
    "    df[df['category_name'].isnull()]='//'\n",
    "    df['category_0'],df['category_1'],df['category_2']=zip(*df['category_name'].apply(lambda x:str(x).split('/')))\n",
    "    df['brand_flag']=df.loc[:,'brand_name'].notnull()*1\n",
    "    df['price_log']=df['price'].apply(lambda x:np.log(x))\n",
    "\n",
    "    from sklearn.preprocessing import LabelEncoder\n",
    "    le = LabelEncoder()\n",
    "    for word in ['category_0','category_1','category_2']:\n",
    "        le.fit(df[word])\n",
    "        df[word]=le.fit_transform(df[word])\n",
    "    df=df.drop(['train_id','name','category_name','brand_name','item_description','price_log'],axis=1)\n",
    "    return(df)"
   ]
  },
  {
   "cell_type": "code",
   "execution_count": 90,
   "metadata": {
    "collapsed": true
   },
   "outputs": [],
   "source": [
    "df_train_2=changer_train_notlog(df_train)"
   ]
  },
  {
   "cell_type": "code",
   "execution_count": 92,
   "metadata": {},
   "outputs": [
    {
     "name": "stdout",
     "output_type": "stream",
     "text": [
      "socre is 0.234496352193\n"
     ]
    },
    {
     "data": {
      "text/html": [
       "<div>\n",
       "<style>\n",
       "    .dataframe thead tr:only-child th {\n",
       "        text-align: right;\n",
       "    }\n",
       "\n",
       "    .dataframe thead th {\n",
       "        text-align: left;\n",
       "    }\n",
       "\n",
       "    .dataframe tbody tr th {\n",
       "        vertical-align: top;\n",
       "    }\n",
       "</style>\n",
       "<table border=\"1\" class=\"dataframe\">\n",
       "  <thead>\n",
       "    <tr style=\"text-align: right;\">\n",
       "      <th></th>\n",
       "      <th>0</th>\n",
       "      <th>1</th>\n",
       "      <th>2</th>\n",
       "      <th>3</th>\n",
       "      <th>4</th>\n",
       "      <th>5</th>\n",
       "      <th>6</th>\n",
       "      <th>7</th>\n",
       "      <th>8</th>\n",
       "      <th>9</th>\n",
       "      <th>...</th>\n",
       "      <th>1482525</th>\n",
       "      <th>1482526</th>\n",
       "      <th>1482527</th>\n",
       "      <th>1482528</th>\n",
       "      <th>1482529</th>\n",
       "      <th>1482530</th>\n",
       "      <th>1482531</th>\n",
       "      <th>1482532</th>\n",
       "      <th>1482533</th>\n",
       "      <th>1482534</th>\n",
       "    </tr>\n",
       "  </thead>\n",
       "  <tbody>\n",
       "    <tr>\n",
       "      <th>y</th>\n",
       "      <td>10.000000</td>\n",
       "      <td>52.000000</td>\n",
       "      <td>10.000000</td>\n",
       "      <td>35.000000</td>\n",
       "      <td>44.000000</td>\n",
       "      <td>59.000000</td>\n",
       "      <td>64.000000</td>\n",
       "      <td>6.000000</td>\n",
       "      <td>19.000000</td>\n",
       "      <td>8.000000</td>\n",
       "      <td>...</td>\n",
       "      <td>7.00000</td>\n",
       "      <td>12.000000</td>\n",
       "      <td>10.000000</td>\n",
       "      <td>18.00000</td>\n",
       "      <td>34.000000</td>\n",
       "      <td>20.000000</td>\n",
       "      <td>14.000000</td>\n",
       "      <td>12.000000</td>\n",
       "      <td>45.000000</td>\n",
       "      <td>22.000000</td>\n",
       "    </tr>\n",
       "    <tr>\n",
       "      <th>y_hat</th>\n",
       "      <td>11.633134</td>\n",
       "      <td>39.767994</td>\n",
       "      <td>19.429902</td>\n",
       "      <td>13.798658</td>\n",
       "      <td>18.590035</td>\n",
       "      <td>28.587513</td>\n",
       "      <td>18.398224</td>\n",
       "      <td>12.832092</td>\n",
       "      <td>14.357581</td>\n",
       "      <td>32.165158</td>\n",
       "      <td>...</td>\n",
       "      <td>17.08236</td>\n",
       "      <td>17.361959</td>\n",
       "      <td>16.726825</td>\n",
       "      <td>17.14378</td>\n",
       "      <td>17.040255</td>\n",
       "      <td>31.434718</td>\n",
       "      <td>14.322251</td>\n",
       "      <td>23.107563</td>\n",
       "      <td>13.676555</td>\n",
       "      <td>25.906921</td>\n",
       "    </tr>\n",
       "  </tbody>\n",
       "</table>\n",
       "<p>2 rows × 1481661 columns</p>\n",
       "</div>"
      ],
      "text/plain": [
       "         0          1          2          3          4          5        \\\n",
       "y      10.000000  52.000000  10.000000  35.000000  44.000000  59.000000   \n",
       "y_hat  11.633134  39.767994  19.429902  13.798658  18.590035  28.587513   \n",
       "\n",
       "         6          7          8          9          ...       1482525  \\\n",
       "y      64.000000   6.000000  19.000000   8.000000    ...       7.00000   \n",
       "y_hat  18.398224  12.832092  14.357581  32.165158    ...      17.08236   \n",
       "\n",
       "         1482526    1482527   1482528    1482529    1482530    1482531  \\\n",
       "y      12.000000  10.000000  18.00000  34.000000  20.000000  14.000000   \n",
       "y_hat  17.361959  16.726825  17.14378  17.040255  31.434718  14.322251   \n",
       "\n",
       "         1482532    1482533    1482534  \n",
       "y      12.000000  45.000000  22.000000  \n",
       "y_hat  23.107563  13.676555  25.906921  \n",
       "\n",
       "[2 rows x 1481661 columns]"
      ]
     },
     "execution_count": 92,
     "metadata": {},
     "output_type": "execute_result"
    }
   ],
   "source": [
    "clf2=RandomForestRegressor()\n",
    "X=df_train_2.drop('price',axis=1)\n",
    "y=df_train_2['price']\n",
    "clf2.fit(X,y)\n",
    "print('socre is',clf2.score(X,y))\n",
    "pd.DataFrame({'y':y,'y_hat':clf2.predict(X)}).T"
   ]
  },
  {
   "cell_type": "code",
   "execution_count": 93,
   "metadata": {},
   "outputs": [
    {
     "data": {
      "text/plain": [
       "['__doc__', '__loader__', '__name__', '__package__', '__path__', '__spec__']"
      ]
     },
     "execution_count": 93,
     "metadata": {},
     "output_type": "execute_result"
    }
   ],
   "source": [
    "dir(xgboost)"
   ]
  },
  {
   "cell_type": "code",
   "execution_count": 97,
   "metadata": {},
   "outputs": [
    {
     "ename": "AttributeError",
     "evalue": "module 'xgboost' has no attribute 'xgboost'",
     "output_type": "error",
     "traceback": [
      "\u001b[0;31m---------------------------------------------------------------------------\u001b[0m",
      "\u001b[0;31mAttributeError\u001b[0m                            Traceback (most recent call last)",
      "\u001b[0;32m<ipython-input-97-34b596aef12c>\u001b[0m in \u001b[0;36m<module>\u001b[0;34m()\u001b[0m\n\u001b[0;32m----> 1\u001b[0;31m \u001b[0mreg\u001b[0m\u001b[0;34m=\u001b[0m\u001b[0mxgboost\u001b[0m\u001b[0;34m.\u001b[0m\u001b[0mxgboost\u001b[0m\u001b[0;34m\u001b[0m\u001b[0m\n\u001b[0m",
      "\u001b[0;31mAttributeError\u001b[0m: module 'xgboost' has no attribute 'xgboost'"
     ]
    }
   ],
   "source": []
  },
  {
   "cell_type": "code",
   "execution_count": null,
   "metadata": {
    "collapsed": true
   },
   "outputs": [],
   "source": []
  }
 ],
 "metadata": {
  "kernelspec": {
   "display_name": "Python 3",
   "language": "python",
   "name": "python3"
  },
  "language_info": {
   "codemirror_mode": {
    "name": "ipython",
    "version": 3
   },
   "file_extension": ".py",
   "mimetype": "text/x-python",
   "name": "python",
   "nbconvert_exporter": "python",
   "pygments_lexer": "ipython3",
   "version": "3.6.2"
  }
 },
 "nbformat": 4,
 "nbformat_minor": 2
}
